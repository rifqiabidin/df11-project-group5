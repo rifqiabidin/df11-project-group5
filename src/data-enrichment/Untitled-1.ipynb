{
 "cells": [
  {
   "cell_type": "code",
   "execution_count": 1,
   "metadata": {},
   "outputs": [],
   "source": [
    "import gspread as gs\n",
    "import gspread_dataframe as gd\n",
    "import pandas as pd\n",
    "import random\n",
    "import string\n",
    "from datetime import datetime, timedelta"
   ]
  },
  {
   "cell_type": "code",
   "execution_count": 2,
   "metadata": {},
   "outputs": [],
   "source": [
    "def generate_first_names_last_names(num_names):\n",
    "    first_names = []\n",
    "    last_names = []\n",
    "    \n",
    "    while num_names:\n",
    "        # Generating a random first name with length between 1 and 10\n",
    "        first_name_length = random.randint(1, 10)\n",
    "        first_name = ''.join(random.choices(string.ascii_lowercase, k=first_name_length)).capitalize()\n",
    "        \n",
    "        # Generating a random last name with length between 1 and 10\n",
    "        last_name_length = random.randint(1, 10)\n",
    "        last_name = ''.join(random.choices(string.ascii_lowercase, k=last_name_length)).capitalize()\n",
    "\n",
    "        if first_name in first_names or first_name in last_names:\n",
    "            continue\n",
    "        \n",
    "        if last_name in first_names or last_name in last_names:\n",
    "            continue\n",
    "        \n",
    "        num_names -= 1\n",
    "\n",
    "        # Combining first and last names\n",
    "        first_names.append(first_name)\n",
    "        last_names.append(last_name)\n",
    "\n",
    "    return first_names, last_names"
   ]
  },
  {
   "cell_type": "code",
   "execution_count": 3,
   "metadata": {},
   "outputs": [],
   "source": [
    "# Make timestamp dummy\n",
    "\n",
    "def generate_timestamp(num_rows, max_hours_ago=8):\n",
    "    \"\"\"let's say we got this data from 8 hours ago\"\"\"\n",
    "    time_format = r\"%d/%m/%Y %H:%M:%S\"\n",
    "\n",
    "    timestamp = [(datetime.now() - timedelta(weeks=random.randint(0,156),days=random.randint(0,5), hours=random.randint(7,max_hours_ago+7), \n",
    "                                minutes=random.randint(0,60),\n",
    "                                seconds= random.randint(0, 60))).strftime(time_format) \n",
    "                                for _ in range(num_rows)]\n",
    "    \n",
    "    return timestamp"
   ]
  },
  {
   "cell_type": "code",
   "execution_count": 4,
   "metadata": {},
   "outputs": [],
   "source": [
    "input = r\"./input/bank-marketing-dataset - bank-marketing-dataset (1).csv\""
   ]
  },
  {
   "cell_type": "code",
   "execution_count": 5,
   "metadata": {},
   "outputs": [],
   "source": [
    "bank_marketing = pd.read_csv(input)\n",
    "bank_marketing_df = bank_marketing.copy()"
   ]
  },
  {
   "cell_type": "code",
   "execution_count": 6,
   "metadata": {},
   "outputs": [],
   "source": [
    "num_rows, num_columns = bank_marketing_df.shape "
   ]
  },
  {
   "cell_type": "code",
   "execution_count": 7,
   "metadata": {},
   "outputs": [
    {
     "data": {
      "text/html": [
       "<div>\n",
       "<style scoped>\n",
       "    .dataframe tbody tr th:only-of-type {\n",
       "        vertical-align: middle;\n",
       "    }\n",
       "\n",
       "    .dataframe tbody tr th {\n",
       "        vertical-align: top;\n",
       "    }\n",
       "\n",
       "    .dataframe thead th {\n",
       "        text-align: right;\n",
       "    }\n",
       "</style>\n",
       "<table border=\"1\" class=\"dataframe\">\n",
       "  <thead>\n",
       "    <tr style=\"text-align: right;\">\n",
       "      <th></th>\n",
       "      <th>age</th>\n",
       "      <th>job</th>\n",
       "      <th>marital</th>\n",
       "      <th>education</th>\n",
       "      <th>default</th>\n",
       "      <th>housing</th>\n",
       "      <th>loan</th>\n",
       "    </tr>\n",
       "  </thead>\n",
       "  <tbody>\n",
       "    <tr>\n",
       "      <th>0</th>\n",
       "      <td>56</td>\n",
       "      <td>housemaid</td>\n",
       "      <td>married</td>\n",
       "      <td>basic.4y</td>\n",
       "      <td>no</td>\n",
       "      <td>no</td>\n",
       "      <td>no</td>\n",
       "    </tr>\n",
       "    <tr>\n",
       "      <th>1</th>\n",
       "      <td>57</td>\n",
       "      <td>services</td>\n",
       "      <td>married</td>\n",
       "      <td>high.school</td>\n",
       "      <td>unknown</td>\n",
       "      <td>no</td>\n",
       "      <td>no</td>\n",
       "    </tr>\n",
       "    <tr>\n",
       "      <th>2</th>\n",
       "      <td>37</td>\n",
       "      <td>services</td>\n",
       "      <td>married</td>\n",
       "      <td>high.school</td>\n",
       "      <td>no</td>\n",
       "      <td>yes</td>\n",
       "      <td>no</td>\n",
       "    </tr>\n",
       "    <tr>\n",
       "      <th>3</th>\n",
       "      <td>40</td>\n",
       "      <td>admin.</td>\n",
       "      <td>married</td>\n",
       "      <td>basic.6y</td>\n",
       "      <td>no</td>\n",
       "      <td>no</td>\n",
       "      <td>no</td>\n",
       "    </tr>\n",
       "    <tr>\n",
       "      <th>4</th>\n",
       "      <td>56</td>\n",
       "      <td>services</td>\n",
       "      <td>married</td>\n",
       "      <td>high.school</td>\n",
       "      <td>no</td>\n",
       "      <td>no</td>\n",
       "      <td>yes</td>\n",
       "    </tr>\n",
       "  </tbody>\n",
       "</table>\n",
       "</div>"
      ],
      "text/plain": [
       "   age        job  marital    education  default housing loan\n",
       "0   56  housemaid  married     basic.4y       no      no   no\n",
       "1   57   services  married  high.school  unknown      no   no\n",
       "2   37   services  married  high.school       no     yes   no\n",
       "3   40     admin.  married     basic.6y       no      no   no\n",
       "4   56   services  married  high.school       no      no  yes"
      ]
     },
     "execution_count": 7,
     "metadata": {},
     "output_type": "execute_result"
    }
   ],
   "source": [
    "bank_marketing_df.head()"
   ]
  },
  {
   "cell_type": "code",
   "execution_count": 8,
   "metadata": {},
   "outputs": [
    {
     "data": {
      "text/plain": [
       "Index(['age', 'job', 'marital', 'education', 'default', 'housing', 'loan'], dtype='object')"
      ]
     },
     "execution_count": 8,
     "metadata": {},
     "output_type": "execute_result"
    }
   ],
   "source": [
    "bank_marketing_df.columns"
   ]
  },
  {
   "cell_type": "code",
   "execution_count": 16,
   "metadata": {},
   "outputs": [
    {
     "data": {
      "text/plain": [
       "age             0\n",
       "job           330\n",
       "marital        80\n",
       "education    1731\n",
       "default      8597\n",
       "housing       990\n",
       "loan          990\n",
       "dtype: int64"
      ]
     },
     "execution_count": 16,
     "metadata": {},
     "output_type": "execute_result"
    }
   ],
   "source": [
    "bank_marketing_df.isin([\"unknown\"]).sum()"
   ]
  },
  {
   "cell_type": "code",
   "execution_count": 31,
   "metadata": {},
   "outputs": [
    {
     "data": {
      "text/plain": [
       "default\n",
       "no         32588\n",
       "unknown     8597\n",
       "yes            3\n",
       "Name: count, dtype: int64"
      ]
     },
     "execution_count": 31,
     "metadata": {},
     "output_type": "execute_result"
    }
   ],
   "source": [
    "bank_marketing_df[\"default\"].value_counts()"
   ]
  },
  {
   "cell_type": "code",
   "execution_count": 37,
   "metadata": {},
   "outputs": [
    {
     "data": {
      "text/plain": [
       "age             0\n",
       "job           178\n",
       "marital        69\n",
       "education    1183\n",
       "default         0\n",
       "housing       763\n",
       "loan          763\n",
       "dtype: int64"
      ]
     },
     "execution_count": 37,
     "metadata": {},
     "output_type": "execute_result"
    },
    {
     "ename": "",
     "evalue": "",
     "output_type": "error",
     "traceback": [
      "\u001b[1;31mThe Kernel crashed while executing code in the the current cell or a previous cell. Please review the code in the cell(s) to identify a possible cause of the failure. Click <a href='https://aka.ms/vscodeJupyterKernelCrash'>here</a> for more info. View Jupyter <a href='command:jupyter.viewOutput'>log</a> for further details."
     ]
    }
   ],
   "source": [
    "bank_marketing_df[bank_marketing_df[\"default\"] != \"unknown\"].isin([\"unknown\"]).sum()"
   ]
  },
  {
   "cell_type": "code",
   "execution_count": 34,
   "metadata": {},
   "outputs": [
    {
     "data": {
      "text/plain": [
       "default  education            job        \n",
       "yes      high.school          unemployed        1\n",
       "unknown  illiterate           retired           1\n",
       "                              admin.            1\n",
       "                              housemaid         1\n",
       "         university.degree    unknown           2\n",
       "                                             ... \n",
       "no       high.school          services       2078\n",
       "         basic.9y             blue-collar    2546\n",
       "         professional.course  technician     2836\n",
       "         high.school          admin.         2966\n",
       "         university.degree    admin.         5126\n",
       "Name: count, Length: 177, dtype: int64"
      ]
     },
     "execution_count": 34,
     "metadata": {},
     "output_type": "execute_result"
    }
   ],
   "source": [
    "bank_marketing_df[[\"education\",\"job\", \"default\"]].groupby(\"default\").value_counts().sort_values()"
   ]
  },
  {
   "cell_type": "code",
   "execution_count": 20,
   "metadata": {},
   "outputs": [
    {
     "data": {
      "text/html": [
       "<div>\n",
       "<style scoped>\n",
       "    .dataframe tbody tr th:only-of-type {\n",
       "        vertical-align: middle;\n",
       "    }\n",
       "\n",
       "    .dataframe tbody tr th {\n",
       "        vertical-align: top;\n",
       "    }\n",
       "\n",
       "    .dataframe thead th {\n",
       "        text-align: right;\n",
       "    }\n",
       "</style>\n",
       "<table border=\"1\" class=\"dataframe\">\n",
       "  <thead>\n",
       "    <tr style=\"text-align: right;\">\n",
       "      <th></th>\n",
       "      <th>age</th>\n",
       "      <th>job</th>\n",
       "      <th>marital</th>\n",
       "      <th>education</th>\n",
       "      <th>default</th>\n",
       "      <th>housing</th>\n",
       "      <th>loan</th>\n",
       "    </tr>\n",
       "  </thead>\n",
       "  <tbody>\n",
       "    <tr>\n",
       "      <th>0</th>\n",
       "      <td>56</td>\n",
       "      <td>housemaid</td>\n",
       "      <td>married</td>\n",
       "      <td>basic.4y</td>\n",
       "      <td>no</td>\n",
       "      <td>no</td>\n",
       "      <td>no</td>\n",
       "    </tr>\n",
       "    <tr>\n",
       "      <th>1</th>\n",
       "      <td>57</td>\n",
       "      <td>services</td>\n",
       "      <td>married</td>\n",
       "      <td>high.school</td>\n",
       "      <td>unknown</td>\n",
       "      <td>no</td>\n",
       "      <td>no</td>\n",
       "    </tr>\n",
       "    <tr>\n",
       "      <th>2</th>\n",
       "      <td>37</td>\n",
       "      <td>services</td>\n",
       "      <td>married</td>\n",
       "      <td>high.school</td>\n",
       "      <td>no</td>\n",
       "      <td>yes</td>\n",
       "      <td>no</td>\n",
       "    </tr>\n",
       "    <tr>\n",
       "      <th>3</th>\n",
       "      <td>40</td>\n",
       "      <td>admin.</td>\n",
       "      <td>married</td>\n",
       "      <td>basic.6y</td>\n",
       "      <td>no</td>\n",
       "      <td>no</td>\n",
       "      <td>no</td>\n",
       "    </tr>\n",
       "    <tr>\n",
       "      <th>4</th>\n",
       "      <td>56</td>\n",
       "      <td>services</td>\n",
       "      <td>married</td>\n",
       "      <td>high.school</td>\n",
       "      <td>no</td>\n",
       "      <td>no</td>\n",
       "      <td>yes</td>\n",
       "    </tr>\n",
       "    <tr>\n",
       "      <th>...</th>\n",
       "      <td>...</td>\n",
       "      <td>...</td>\n",
       "      <td>...</td>\n",
       "      <td>...</td>\n",
       "      <td>...</td>\n",
       "      <td>...</td>\n",
       "      <td>...</td>\n",
       "    </tr>\n",
       "    <tr>\n",
       "      <th>41183</th>\n",
       "      <td>73</td>\n",
       "      <td>retired</td>\n",
       "      <td>married</td>\n",
       "      <td>professional.course</td>\n",
       "      <td>no</td>\n",
       "      <td>yes</td>\n",
       "      <td>no</td>\n",
       "    </tr>\n",
       "    <tr>\n",
       "      <th>41184</th>\n",
       "      <td>46</td>\n",
       "      <td>blue-collar</td>\n",
       "      <td>married</td>\n",
       "      <td>professional.course</td>\n",
       "      <td>no</td>\n",
       "      <td>no</td>\n",
       "      <td>no</td>\n",
       "    </tr>\n",
       "    <tr>\n",
       "      <th>41185</th>\n",
       "      <td>56</td>\n",
       "      <td>retired</td>\n",
       "      <td>married</td>\n",
       "      <td>university.degree</td>\n",
       "      <td>no</td>\n",
       "      <td>yes</td>\n",
       "      <td>no</td>\n",
       "    </tr>\n",
       "    <tr>\n",
       "      <th>41186</th>\n",
       "      <td>44</td>\n",
       "      <td>technician</td>\n",
       "      <td>married</td>\n",
       "      <td>professional.course</td>\n",
       "      <td>no</td>\n",
       "      <td>no</td>\n",
       "      <td>no</td>\n",
       "    </tr>\n",
       "    <tr>\n",
       "      <th>41187</th>\n",
       "      <td>74</td>\n",
       "      <td>retired</td>\n",
       "      <td>married</td>\n",
       "      <td>professional.course</td>\n",
       "      <td>no</td>\n",
       "      <td>yes</td>\n",
       "      <td>no</td>\n",
       "    </tr>\n",
       "  </tbody>\n",
       "</table>\n",
       "<p>41188 rows × 7 columns</p>\n",
       "</div>"
      ],
      "text/plain": [
       "       age          job  marital            education  default housing loan\n",
       "0       56    housemaid  married             basic.4y       no      no   no\n",
       "1       57     services  married          high.school  unknown      no   no\n",
       "2       37     services  married          high.school       no     yes   no\n",
       "3       40       admin.  married             basic.6y       no      no   no\n",
       "4       56     services  married          high.school       no      no  yes\n",
       "...    ...          ...      ...                  ...      ...     ...  ...\n",
       "41183   73      retired  married  professional.course       no     yes   no\n",
       "41184   46  blue-collar  married  professional.course       no      no   no\n",
       "41185   56      retired  married    university.degree       no     yes   no\n",
       "41186   44   technician  married  professional.course       no      no   no\n",
       "41187   74      retired  married  professional.course       no     yes   no\n",
       "\n",
       "[41188 rows x 7 columns]"
      ]
     },
     "execution_count": 20,
     "metadata": {},
     "output_type": "execute_result"
    }
   ],
   "source": [
    "bank_marketing_df"
   ]
  },
  {
   "cell_type": "code",
   "execution_count": 160,
   "metadata": {},
   "outputs": [],
   "source": [
    "bank_marketing_df[['job', 'marital', 'education', 'default', 'housing', 'loan']] = bank_marketing_df[['job', 'marital', 'education', 'default', 'housing', 'loan']].astype('category')"
   ]
  },
  {
   "cell_type": "code",
   "execution_count": 161,
   "metadata": {},
   "outputs": [
    {
     "name": "stdout",
     "output_type": "stream",
     "text": [
      "<class 'pandas.core.frame.DataFrame'>\n",
      "RangeIndex: 41188 entries, 0 to 41187\n",
      "Data columns (total 7 columns):\n",
      " #   Column     Non-Null Count  Dtype   \n",
      "---  ------     --------------  -----   \n",
      " 0   age        41188 non-null  int64   \n",
      " 1   job        41188 non-null  category\n",
      " 2   marital    41188 non-null  category\n",
      " 3   education  41188 non-null  category\n",
      " 4   default    41188 non-null  category\n",
      " 5   housing    41188 non-null  category\n",
      " 6   loan       41188 non-null  category\n",
      "dtypes: category(6), int64(1)\n",
      "memory usage: 564.6 KB\n"
     ]
    }
   ],
   "source": [
    "bank_marketing_df.info()"
   ]
  },
  {
   "cell_type": "code",
   "execution_count": 162,
   "metadata": {},
   "outputs": [],
   "source": [
    "#Generate timestamp\n",
    "bank_marketing_df[\"timestamp\"] = generate_timestamp(num_rows= num_rows, max_hours_ago= 8)\n",
    "bank_marketing_df[\"timestamp\"] = pd.to_datetime(bank_marketing_df[\"timestamp\"], format= r\"%d/%m/%Y %H:%M:%S\")\n",
    "\n",
    "#Generate first name and last name\n",
    "bank_marketing_df[\"first_name\"], bank_marketing_df[\"last_name\"] = generate_first_names_last_names(num_rows)\n",
    "\n",
    "#Generate Email\n",
    "bank_marketing_df[\"email\"] = [first_name.lower()+last_name.lower()+\"@gmail.com\" for first_name, last_name in zip(bank_marketing_df[\"first_name\"], bank_marketing_df[\"last_name\"])]\n",
    "\n",
    "# add birth of date from age\n",
    "bank_marketing_df[\"birth_of_date\"] = bank_marketing_df[\"age\"].apply(lambda x: (datetime.now() - timedelta(weeks=x*52,days= random.randint(1, 30))).strftime(r\"%d/%m/%Y\"))"
   ]
  },
  {
   "cell_type": "code",
   "execution_count": 170,
   "metadata": {},
   "outputs": [
    {
     "data": {
      "text/plain": [
       "Timestamp        41154\n",
       "Email            41188\n",
       "First Name       41188\n",
       "Last Name        41188\n",
       "Birth of Date     1788\n",
       "Job                 12\n",
       "Marital              4\n",
       "Education            8\n",
       "Default              3\n",
       "Housing              3\n",
       "Loan                 3\n",
       "dtype: int64"
      ]
     },
     "execution_count": 170,
     "metadata": {},
     "output_type": "execute_result"
    }
   ],
   "source": [
    "bank_marketing_df.nunique()"
   ]
  },
  {
   "cell_type": "code",
   "execution_count": 173,
   "metadata": {},
   "outputs": [
    {
     "data": {
      "text/plain": [
       "Education\n",
       "university.degree      12168\n",
       "high.school             9515\n",
       "basic.9y                6045\n",
       "professional.course     5243\n",
       "basic.4y                4176\n",
       "basic.6y                2292\n",
       "unknown                 1731\n",
       "illiterate                18\n",
       "Name: count, dtype: int64"
      ]
     },
     "execution_count": 173,
     "metadata": {},
     "output_type": "execute_result"
    }
   ],
   "source": [
    "bank_marketing_df['Education'].value_counts()"
   ]
  },
  {
   "cell_type": "code",
   "execution_count": 172,
   "metadata": {},
   "outputs": [
    {
     "data": {
      "text/plain": [
       "Marital\n",
       "married     24928\n",
       "single      11568\n",
       "divorced     4612\n",
       "unknown        80\n",
       "Name: count, dtype: int64"
      ]
     },
     "execution_count": 172,
     "metadata": {},
     "output_type": "execute_result"
    }
   ],
   "source": [
    "bank_marketing_df['Marital'].value_counts()"
   ]
  },
  {
   "cell_type": "code",
   "execution_count": 163,
   "metadata": {},
   "outputs": [],
   "source": [
    "bank_marketing_df[['timestamp', 'first_name', 'last_name', 'email', 'birth_of_date', 'job', 'marital', 'education', 'default', 'housing', 'loan']].to_csv(r'./input/transformed2.csv',index=False)"
   ]
  },
  {
   "cell_type": "code",
   "execution_count": 164,
   "metadata": {},
   "outputs": [
    {
     "data": {
      "text/html": [
       "<div>\n",
       "<style scoped>\n",
       "    .dataframe tbody tr th:only-of-type {\n",
       "        vertical-align: middle;\n",
       "    }\n",
       "\n",
       "    .dataframe tbody tr th {\n",
       "        vertical-align: top;\n",
       "    }\n",
       "\n",
       "    .dataframe thead th {\n",
       "        text-align: right;\n",
       "    }\n",
       "</style>\n",
       "<table border=\"1\" class=\"dataframe\">\n",
       "  <thead>\n",
       "    <tr style=\"text-align: right;\">\n",
       "      <th></th>\n",
       "      <th>timestamp</th>\n",
       "      <th>email</th>\n",
       "      <th>first_name</th>\n",
       "      <th>last_name</th>\n",
       "      <th>birth_of_date</th>\n",
       "      <th>job</th>\n",
       "      <th>marital</th>\n",
       "      <th>education</th>\n",
       "      <th>default</th>\n",
       "      <th>housing</th>\n",
       "      <th>loan</th>\n",
       "    </tr>\n",
       "  </thead>\n",
       "  <tbody>\n",
       "    <tr>\n",
       "      <th>0</th>\n",
       "      <td>2020-11-16 10:32:59</td>\n",
       "      <td>nnnbtdtcofdxq@gmail.com</td>\n",
       "      <td>Nnnbtd</td>\n",
       "      <td>Tcofdxq</td>\n",
       "      <td>07/01/1968</td>\n",
       "      <td>housemaid</td>\n",
       "      <td>married</td>\n",
       "      <td>basic.4y</td>\n",
       "      <td>no</td>\n",
       "      <td>no</td>\n",
       "      <td>no</td>\n",
       "    </tr>\n",
       "    <tr>\n",
       "      <th>1</th>\n",
       "      <td>2022-02-21 14:00:35</td>\n",
       "      <td>ttwuvinhndtkqeo@gmail.com</td>\n",
       "      <td>Ttwuv</td>\n",
       "      <td>Inhndtkqeo</td>\n",
       "      <td>01/01/1967</td>\n",
       "      <td>services</td>\n",
       "      <td>married</td>\n",
       "      <td>high.school</td>\n",
       "      <td>unknown</td>\n",
       "      <td>no</td>\n",
       "      <td>no</td>\n",
       "    </tr>\n",
       "    <tr>\n",
       "      <th>2</th>\n",
       "      <td>2021-12-24 09:10:02</td>\n",
       "      <td>rusbiutywawi@gmail.com</td>\n",
       "      <td>Rusbiutyw</td>\n",
       "      <td>Awi</td>\n",
       "      <td>07/12/1986</td>\n",
       "      <td>services</td>\n",
       "      <td>married</td>\n",
       "      <td>high.school</td>\n",
       "      <td>no</td>\n",
       "      <td>yes</td>\n",
       "      <td>no</td>\n",
       "    </tr>\n",
       "    <tr>\n",
       "      <th>3</th>\n",
       "      <td>2022-03-10 12:48:32</td>\n",
       "      <td>dtjbevzbildqr@gmail.com</td>\n",
       "      <td>Dtjbevzbi</td>\n",
       "      <td>Ldqr</td>\n",
       "      <td>15/12/1983</td>\n",
       "      <td>admin.</td>\n",
       "      <td>married</td>\n",
       "      <td>basic.6y</td>\n",
       "      <td>no</td>\n",
       "      <td>no</td>\n",
       "      <td>no</td>\n",
       "    </tr>\n",
       "    <tr>\n",
       "      <th>4</th>\n",
       "      <td>2022-03-17 09:44:42</td>\n",
       "      <td>yroeweedpurlob@gmail.com</td>\n",
       "      <td>Yroeweedpu</td>\n",
       "      <td>Rlob</td>\n",
       "      <td>24/12/1967</td>\n",
       "      <td>services</td>\n",
       "      <td>married</td>\n",
       "      <td>high.school</td>\n",
       "      <td>no</td>\n",
       "      <td>no</td>\n",
       "      <td>yes</td>\n",
       "    </tr>\n",
       "  </tbody>\n",
       "</table>\n",
       "</div>"
      ],
      "text/plain": [
       "            timestamp                      email  first_name   last_name  \\\n",
       "0 2020-11-16 10:32:59    nnnbtdtcofdxq@gmail.com      Nnnbtd     Tcofdxq   \n",
       "1 2022-02-21 14:00:35  ttwuvinhndtkqeo@gmail.com       Ttwuv  Inhndtkqeo   \n",
       "2 2021-12-24 09:10:02     rusbiutywawi@gmail.com   Rusbiutyw         Awi   \n",
       "3 2022-03-10 12:48:32    dtjbevzbildqr@gmail.com   Dtjbevzbi        Ldqr   \n",
       "4 2022-03-17 09:44:42   yroeweedpurlob@gmail.com  Yroeweedpu        Rlob   \n",
       "\n",
       "  birth_of_date        job  marital    education  default housing loan  \n",
       "0    07/01/1968  housemaid  married     basic.4y       no      no   no  \n",
       "1    01/01/1967   services  married  high.school  unknown      no   no  \n",
       "2    07/12/1986   services  married  high.school       no     yes   no  \n",
       "3    15/12/1983     admin.  married     basic.6y       no      no   no  \n",
       "4    24/12/1967   services  married  high.school       no      no  yes  "
      ]
     },
     "execution_count": 164,
     "metadata": {},
     "output_type": "execute_result"
    }
   ],
   "source": [
    "bank_marketing_df = bank_marketing_df[['timestamp', 'email', 'first_name', 'last_name', 'birth_of_date', 'job', 'marital', 'education', 'default', 'housing', 'loan']]\n",
    "bank_marketing_df.head()"
   ]
  },
  {
   "cell_type": "code",
   "execution_count": 165,
   "metadata": {},
   "outputs": [],
   "source": [
    "bank_marketing_df.columns = [\"Timestamp\", \"Email\", \"First Name\", \"Last Name\", \"Birth of Date\", \"Job\", \"Marital\", \"Education\", \"Default\", \"Housing\", \"Loan\"]"
   ]
  },
  {
   "cell_type": "code",
   "execution_count": 166,
   "metadata": {},
   "outputs": [
    {
     "data": {
      "text/html": [
       "<div>\n",
       "<style scoped>\n",
       "    .dataframe tbody tr th:only-of-type {\n",
       "        vertical-align: middle;\n",
       "    }\n",
       "\n",
       "    .dataframe tbody tr th {\n",
       "        vertical-align: top;\n",
       "    }\n",
       "\n",
       "    .dataframe thead th {\n",
       "        text-align: right;\n",
       "    }\n",
       "</style>\n",
       "<table border=\"1\" class=\"dataframe\">\n",
       "  <thead>\n",
       "    <tr style=\"text-align: right;\">\n",
       "      <th></th>\n",
       "      <th>Timestamp</th>\n",
       "      <th>Email</th>\n",
       "      <th>First Name</th>\n",
       "      <th>Last Name</th>\n",
       "      <th>Birth of Date</th>\n",
       "      <th>Job</th>\n",
       "      <th>Marital</th>\n",
       "      <th>Education</th>\n",
       "      <th>Default</th>\n",
       "      <th>Housing</th>\n",
       "      <th>Loan</th>\n",
       "    </tr>\n",
       "  </thead>\n",
       "  <tbody>\n",
       "    <tr>\n",
       "      <th>1966</th>\n",
       "      <td>2023-11-13 14:46:37</td>\n",
       "      <td>ygrcooluhdjcxjvvi@gmail.com</td>\n",
       "      <td>Ygrcoolu</td>\n",
       "      <td>Hdjcxjvvi</td>\n",
       "      <td>31/12/1969</td>\n",
       "      <td>admin.</td>\n",
       "      <td>married</td>\n",
       "      <td>basic.4y</td>\n",
       "      <td>unknown</td>\n",
       "      <td>no</td>\n",
       "      <td>no</td>\n",
       "    </tr>\n",
       "    <tr>\n",
       "      <th>13094</th>\n",
       "      <td>2023-11-13 14:22:55</td>\n",
       "      <td>crccrtedcrnqffpxyx@gmail.com</td>\n",
       "      <td>Crccrtedcr</td>\n",
       "      <td>Nqffpxyx</td>\n",
       "      <td>17/12/1991</td>\n",
       "      <td>blue-collar</td>\n",
       "      <td>single</td>\n",
       "      <td>basic.4y</td>\n",
       "      <td>unknown</td>\n",
       "      <td>no</td>\n",
       "      <td>no</td>\n",
       "    </tr>\n",
       "    <tr>\n",
       "      <th>28916</th>\n",
       "      <td>2023-11-13 14:06:37</td>\n",
       "      <td>toldhrdzeddvus@gmail.com</td>\n",
       "      <td>Toldhrdzed</td>\n",
       "      <td>Dvus</td>\n",
       "      <td>21/01/1967</td>\n",
       "      <td>blue-collar</td>\n",
       "      <td>married</td>\n",
       "      <td>basic.9y</td>\n",
       "      <td>no</td>\n",
       "      <td>no</td>\n",
       "      <td>no</td>\n",
       "    </tr>\n",
       "    <tr>\n",
       "      <th>36490</th>\n",
       "      <td>2023-11-13 14:03:59</td>\n",
       "      <td>vjvbvlbtxaia@gmail.com</td>\n",
       "      <td>Vjvbvl</td>\n",
       "      <td>Btxaia</td>\n",
       "      <td>05/12/1986</td>\n",
       "      <td>self-employed</td>\n",
       "      <td>married</td>\n",
       "      <td>professional.course</td>\n",
       "      <td>no</td>\n",
       "      <td>no</td>\n",
       "      <td>no</td>\n",
       "    </tr>\n",
       "    <tr>\n",
       "      <th>8793</th>\n",
       "      <td>2023-11-13 13:51:59</td>\n",
       "      <td>fohsijnxmeqec@gmail.com</td>\n",
       "      <td>Fohsijn</td>\n",
       "      <td>Xmeqec</td>\n",
       "      <td>24/11/1994</td>\n",
       "      <td>services</td>\n",
       "      <td>single</td>\n",
       "      <td>high.school</td>\n",
       "      <td>no</td>\n",
       "      <td>yes</td>\n",
       "      <td>no</td>\n",
       "    </tr>\n",
       "    <tr>\n",
       "      <th>...</th>\n",
       "      <td>...</td>\n",
       "      <td>...</td>\n",
       "      <td>...</td>\n",
       "      <td>...</td>\n",
       "      <td>...</td>\n",
       "      <td>...</td>\n",
       "      <td>...</td>\n",
       "      <td>...</td>\n",
       "      <td>...</td>\n",
       "      <td>...</td>\n",
       "      <td>...</td>\n",
       "    </tr>\n",
       "    <tr>\n",
       "      <th>32389</th>\n",
       "      <td>2020-11-11 06:16:55</td>\n",
       "      <td>gtajivhrkyoejn@gmail.com</td>\n",
       "      <td>Gtajivh</td>\n",
       "      <td>Rkyoejn</td>\n",
       "      <td>06/12/1992</td>\n",
       "      <td>management</td>\n",
       "      <td>married</td>\n",
       "      <td>university.degree</td>\n",
       "      <td>no</td>\n",
       "      <td>no</td>\n",
       "      <td>no</td>\n",
       "    </tr>\n",
       "    <tr>\n",
       "      <th>22814</th>\n",
       "      <td>2020-11-11 06:12:42</td>\n",
       "      <td>pmhhycwynwbc@gmail.com</td>\n",
       "      <td>Pmh</td>\n",
       "      <td>Hycwynwbc</td>\n",
       "      <td>31/12/1964</td>\n",
       "      <td>admin.</td>\n",
       "      <td>divorced</td>\n",
       "      <td>university.degree</td>\n",
       "      <td>unknown</td>\n",
       "      <td>yes</td>\n",
       "      <td>no</td>\n",
       "    </tr>\n",
       "    <tr>\n",
       "      <th>21840</th>\n",
       "      <td>2020-11-11 06:05:36</td>\n",
       "      <td>esoropfdabfczrwkd@gmail.com</td>\n",
       "      <td>Esoropfdab</td>\n",
       "      <td>Fczrwkd</td>\n",
       "      <td>14/12/1983</td>\n",
       "      <td>technician</td>\n",
       "      <td>single</td>\n",
       "      <td>professional.course</td>\n",
       "      <td>no</td>\n",
       "      <td>no</td>\n",
       "      <td>no</td>\n",
       "    </tr>\n",
       "    <tr>\n",
       "      <th>24420</th>\n",
       "      <td>2020-11-11 05:59:24</td>\n",
       "      <td>bqqpxtydzlnecvi@gmail.com</td>\n",
       "      <td>Bqqpxty</td>\n",
       "      <td>Dzlnecvi</td>\n",
       "      <td>04/01/1975</td>\n",
       "      <td>management</td>\n",
       "      <td>married</td>\n",
       "      <td>university.degree</td>\n",
       "      <td>no</td>\n",
       "      <td>no</td>\n",
       "      <td>no</td>\n",
       "    </tr>\n",
       "    <tr>\n",
       "      <th>11843</th>\n",
       "      <td>2020-11-11 05:54:41</td>\n",
       "      <td>abcdxsobsygfeui@gmail.com</td>\n",
       "      <td>Abcdxso</td>\n",
       "      <td>Bsygfeui</td>\n",
       "      <td>21/11/1992</td>\n",
       "      <td>admin.</td>\n",
       "      <td>divorced</td>\n",
       "      <td>high.school</td>\n",
       "      <td>no</td>\n",
       "      <td>no</td>\n",
       "      <td>no</td>\n",
       "    </tr>\n",
       "  </tbody>\n",
       "</table>\n",
       "<p>41188 rows × 11 columns</p>\n",
       "</div>"
      ],
      "text/plain": [
       "                Timestamp                         Email  First Name  \\\n",
       "1966  2023-11-13 14:46:37   ygrcooluhdjcxjvvi@gmail.com    Ygrcoolu   \n",
       "13094 2023-11-13 14:22:55  crccrtedcrnqffpxyx@gmail.com  Crccrtedcr   \n",
       "28916 2023-11-13 14:06:37      toldhrdzeddvus@gmail.com  Toldhrdzed   \n",
       "36490 2023-11-13 14:03:59        vjvbvlbtxaia@gmail.com      Vjvbvl   \n",
       "8793  2023-11-13 13:51:59       fohsijnxmeqec@gmail.com     Fohsijn   \n",
       "...                   ...                           ...         ...   \n",
       "32389 2020-11-11 06:16:55      gtajivhrkyoejn@gmail.com     Gtajivh   \n",
       "22814 2020-11-11 06:12:42        pmhhycwynwbc@gmail.com         Pmh   \n",
       "21840 2020-11-11 06:05:36   esoropfdabfczrwkd@gmail.com  Esoropfdab   \n",
       "24420 2020-11-11 05:59:24     bqqpxtydzlnecvi@gmail.com     Bqqpxty   \n",
       "11843 2020-11-11 05:54:41     abcdxsobsygfeui@gmail.com     Abcdxso   \n",
       "\n",
       "       Last Name Birth of Date            Job   Marital            Education  \\\n",
       "1966   Hdjcxjvvi    31/12/1969         admin.   married             basic.4y   \n",
       "13094   Nqffpxyx    17/12/1991    blue-collar    single             basic.4y   \n",
       "28916       Dvus    21/01/1967    blue-collar   married             basic.9y   \n",
       "36490     Btxaia    05/12/1986  self-employed   married  professional.course   \n",
       "8793      Xmeqec    24/11/1994       services    single          high.school   \n",
       "...          ...           ...            ...       ...                  ...   \n",
       "32389    Rkyoejn    06/12/1992     management   married    university.degree   \n",
       "22814  Hycwynwbc    31/12/1964         admin.  divorced    university.degree   \n",
       "21840    Fczrwkd    14/12/1983     technician    single  professional.course   \n",
       "24420   Dzlnecvi    04/01/1975     management   married    university.degree   \n",
       "11843   Bsygfeui    21/11/1992         admin.  divorced          high.school   \n",
       "\n",
       "       Default Housing Loan  \n",
       "1966   unknown      no   no  \n",
       "13094  unknown      no   no  \n",
       "28916       no      no   no  \n",
       "36490       no      no   no  \n",
       "8793        no     yes   no  \n",
       "...        ...     ...  ...  \n",
       "32389       no      no   no  \n",
       "22814  unknown     yes   no  \n",
       "21840       no      no   no  \n",
       "24420       no      no   no  \n",
       "11843       no      no   no  \n",
       "\n",
       "[41188 rows x 11 columns]"
      ]
     },
     "execution_count": 166,
     "metadata": {},
     "output_type": "execute_result"
    }
   ],
   "source": [
    "bank_marketing_df_sorted = bank_marketing_df.sort_values(by='Timestamp', ascending=False)\n",
    "bank_marketing_df_sorted"
   ]
  },
  {
   "cell_type": "code",
   "execution_count": 167,
   "metadata": {},
   "outputs": [],
   "source": [
    "gc = gs.service_account(filename='df11-group5-bc883e1b40d0.json')\n",
    "sheet = \"https://docs.google.com/spreadsheets/d/1DLIiR135fsZOb6Kt-AI_QnajUzjmgl_rk2xo097554w/edit#gid=1794896340\"\n",
    "ws = gc.open_by_url(sheet).worksheet(\"Form responses 2\")\n",
    "existing = gd.get_as_dataframe(ws)\n",
    "ws.clear()\n",
    "gd.set_with_dataframe(worksheet=ws, dataframe=bank_marketing_df_sorted, include_index=False, resize=True)\n"
   ]
  }
 ],
 "metadata": {
  "kernelspec": {
   "display_name": "corporate-action-venv",
   "language": "python",
   "name": "corporate-action-venv"
  },
  "language_info": {
   "codemirror_mode": {
    "name": "ipython",
    "version": 3
   },
   "file_extension": ".py",
   "mimetype": "text/x-python",
   "name": "python",
   "nbconvert_exporter": "python",
   "pygments_lexer": "ipython3",
   "version": "3.10.11"
  }
 },
 "nbformat": 4,
 "nbformat_minor": 2
}
